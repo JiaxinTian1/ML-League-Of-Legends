{
 "cells": [
  {
   "cell_type": "code",
   "execution_count": 1,
   "metadata": {},
   "outputs": [],
   "source": [
    "import pandas as pd\n",
    "import numpy as np\n",
    "import matplotlib.pyplot as plt\n",
    "import seaborn as sns\n",
    "import sklearn as sk\n",
    "from sklearn.model_selection import train_test_split\n",
    "%matplotlib inline"
   ]
  },
  {
   "cell_type": "markdown",
   "metadata": {},
   "source": [
    "**Create functions to load our data and save file names in variables**"
   ]
  },
  {
   "cell_type": "code",
   "execution_count": 2,
   "metadata": {},
   "outputs": [],
   "source": [
    "filename = 'games.csv'\n",
    "spells = 'summoner_spell_info.json'\n",
    "def load_data(file):\n",
    "    return pd.read_csv(file)"
   ]
  },
  {
   "cell_type": "code",
   "execution_count": 3,
   "metadata": {},
   "outputs": [],
   "source": [
    "games_full = load_data(filename)"
   ]
  },
  {
   "cell_type": "markdown",
   "metadata": {},
   "source": [
    "**Create a training and test split using our data. The fullset has almost 50,000 observations so we can use sklearns train_test_split function to use random splitting**"
   ]
  },
  {
   "cell_type": "code",
   "execution_count": 4,
   "metadata": {},
   "outputs": [],
   "source": [
    "games_train,games_test = train_test_split(games_full,test_size=0.3,random_state=42)\n"
   ]
  },
  {
   "cell_type": "markdown",
   "metadata": {},
   "source": [
    "# Exploratory data analysis\n",
    "\n",
    "Important tasks to do with our data:\n",
    "\n",
    "1. We need to check for missing values\n",
    "2. Define our objective\n",
    "3. Assess importance of features by feature engineering or selection\n",
    "4. Create functions to clean our data\n"
   ]
  },
  {
   "cell_type": "code",
   "execution_count": 5,
   "metadata": {},
   "outputs": [
    {
     "data": {
      "text/html": [
       "<div>\n",
       "<style scoped>\n",
       "    .dataframe tbody tr th:only-of-type {\n",
       "        vertical-align: middle;\n",
       "    }\n",
       "\n",
       "    .dataframe tbody tr th {\n",
       "        vertical-align: top;\n",
       "    }\n",
       "\n",
       "    .dataframe thead th {\n",
       "        text-align: right;\n",
       "    }\n",
       "</style>\n",
       "<table border=\"1\" class=\"dataframe\">\n",
       "  <thead>\n",
       "    <tr style=\"text-align: right;\">\n",
       "      <th></th>\n",
       "      <th>gameId</th>\n",
       "      <th>creationTime</th>\n",
       "      <th>gameDuration</th>\n",
       "      <th>seasonId</th>\n",
       "      <th>winner</th>\n",
       "      <th>firstBlood</th>\n",
       "      <th>firstTower</th>\n",
       "      <th>firstInhibitor</th>\n",
       "      <th>firstBaron</th>\n",
       "      <th>firstDragon</th>\n",
       "      <th>...</th>\n",
       "      <th>t2_towerKills</th>\n",
       "      <th>t2_inhibitorKills</th>\n",
       "      <th>t2_baronKills</th>\n",
       "      <th>t2_dragonKills</th>\n",
       "      <th>t2_riftHeraldKills</th>\n",
       "      <th>t2_ban1</th>\n",
       "      <th>t2_ban2</th>\n",
       "      <th>t2_ban3</th>\n",
       "      <th>t2_ban4</th>\n",
       "      <th>t2_ban5</th>\n",
       "    </tr>\n",
       "  </thead>\n",
       "  <tbody>\n",
       "    <tr>\n",
       "      <th>34146</th>\n",
       "      <td>3324313369</td>\n",
       "      <td>1504130270140</td>\n",
       "      <td>1272</td>\n",
       "      <td>9</td>\n",
       "      <td>1</td>\n",
       "      <td>1</td>\n",
       "      <td>2</td>\n",
       "      <td>1</td>\n",
       "      <td>0</td>\n",
       "      <td>1</td>\n",
       "      <td>...</td>\n",
       "      <td>1</td>\n",
       "      <td>0</td>\n",
       "      <td>0</td>\n",
       "      <td>0</td>\n",
       "      <td>0</td>\n",
       "      <td>238</td>\n",
       "      <td>33</td>\n",
       "      <td>55</td>\n",
       "      <td>141</td>\n",
       "      <td>122</td>\n",
       "    </tr>\n",
       "    <tr>\n",
       "      <th>10381</th>\n",
       "      <td>3323015091</td>\n",
       "      <td>1504043975211</td>\n",
       "      <td>1850</td>\n",
       "      <td>9</td>\n",
       "      <td>1</td>\n",
       "      <td>2</td>\n",
       "      <td>2</td>\n",
       "      <td>1</td>\n",
       "      <td>2</td>\n",
       "      <td>1</td>\n",
       "      <td>...</td>\n",
       "      <td>6</td>\n",
       "      <td>0</td>\n",
       "      <td>1</td>\n",
       "      <td>0</td>\n",
       "      <td>0</td>\n",
       "      <td>79</td>\n",
       "      <td>18</td>\n",
       "      <td>40</td>\n",
       "      <td>141</td>\n",
       "      <td>-1</td>\n",
       "    </tr>\n",
       "    <tr>\n",
       "      <th>5246</th>\n",
       "      <td>3300652525</td>\n",
       "      <td>1502553170309</td>\n",
       "      <td>1183</td>\n",
       "      <td>9</td>\n",
       "      <td>2</td>\n",
       "      <td>1</td>\n",
       "      <td>2</td>\n",
       "      <td>2</td>\n",
       "      <td>0</td>\n",
       "      <td>2</td>\n",
       "      <td>...</td>\n",
       "      <td>7</td>\n",
       "      <td>2</td>\n",
       "      <td>0</td>\n",
       "      <td>2</td>\n",
       "      <td>1</td>\n",
       "      <td>29</td>\n",
       "      <td>91</td>\n",
       "      <td>245</td>\n",
       "      <td>-1</td>\n",
       "      <td>1</td>\n",
       "    </tr>\n",
       "    <tr>\n",
       "      <th>1429</th>\n",
       "      <td>3324777981</td>\n",
       "      <td>1504192424998</td>\n",
       "      <td>2526</td>\n",
       "      <td>9</td>\n",
       "      <td>2</td>\n",
       "      <td>2</td>\n",
       "      <td>1</td>\n",
       "      <td>0</td>\n",
       "      <td>0</td>\n",
       "      <td>2</td>\n",
       "      <td>...</td>\n",
       "      <td>6</td>\n",
       "      <td>0</td>\n",
       "      <td>0</td>\n",
       "      <td>4</td>\n",
       "      <td>0</td>\n",
       "      <td>64</td>\n",
       "      <td>122</td>\n",
       "      <td>157</td>\n",
       "      <td>31</td>\n",
       "      <td>29</td>\n",
       "    </tr>\n",
       "    <tr>\n",
       "      <th>11768</th>\n",
       "      <td>3296297981</td>\n",
       "      <td>1502295948125</td>\n",
       "      <td>2928</td>\n",
       "      <td>9</td>\n",
       "      <td>2</td>\n",
       "      <td>2</td>\n",
       "      <td>1</td>\n",
       "      <td>2</td>\n",
       "      <td>1</td>\n",
       "      <td>1</td>\n",
       "      <td>...</td>\n",
       "      <td>8</td>\n",
       "      <td>1</td>\n",
       "      <td>1</td>\n",
       "      <td>1</td>\n",
       "      <td>1</td>\n",
       "      <td>55</td>\n",
       "      <td>57</td>\n",
       "      <td>31</td>\n",
       "      <td>121</td>\n",
       "      <td>141</td>\n",
       "    </tr>\n",
       "  </tbody>\n",
       "</table>\n",
       "<p>5 rows × 61 columns</p>\n",
       "</div>"
      ],
      "text/plain": [
       "           gameId   creationTime  gameDuration  seasonId  winner  firstBlood  \\\n",
       "34146  3324313369  1504130270140          1272         9       1           1   \n",
       "10381  3323015091  1504043975211          1850         9       1           2   \n",
       "5246   3300652525  1502553170309          1183         9       2           1   \n",
       "1429   3324777981  1504192424998          2526         9       2           2   \n",
       "11768  3296297981  1502295948125          2928         9       2           2   \n",
       "\n",
       "       firstTower  firstInhibitor  firstBaron  firstDragon  ...  \\\n",
       "34146           2               1           0            1  ...   \n",
       "10381           2               1           2            1  ...   \n",
       "5246            2               2           0            2  ...   \n",
       "1429            1               0           0            2  ...   \n",
       "11768           1               2           1            1  ...   \n",
       "\n",
       "       t2_towerKills  t2_inhibitorKills  t2_baronKills  t2_dragonKills  \\\n",
       "34146              1                  0              0               0   \n",
       "10381              6                  0              1               0   \n",
       "5246               7                  2              0               2   \n",
       "1429               6                  0              0               4   \n",
       "11768              8                  1              1               1   \n",
       "\n",
       "       t2_riftHeraldKills  t2_ban1  t2_ban2  t2_ban3  t2_ban4  t2_ban5  \n",
       "34146                   0      238       33       55      141      122  \n",
       "10381                   0       79       18       40      141       -1  \n",
       "5246                    1       29       91      245       -1        1  \n",
       "1429                    0       64      122      157       31       29  \n",
       "11768                   1       55       57       31      121      141  \n",
       "\n",
       "[5 rows x 61 columns]"
      ]
     },
     "execution_count": 5,
     "metadata": {},
     "output_type": "execute_result"
    }
   ],
   "source": [
    "games_train.head()"
   ]
  },
  {
   "cell_type": "markdown",
   "metadata": {},
   "source": [
    "**This data set contains 61 features in which one feature displays the winning team. I have some domain knowledge of league of legends playing all the way back in season 3-5 but this data is recorded for season 9. It'll be interesting the see the change in team composition, bans and priority toward objectives.** \n",
    "\n",
    "**In general objectives are extremely important to winning a game on League of Legends. It provides you leverage over other objectives because you can advance closer to their base and into their jungle. You can plant deeper wards to gain vision for your entire team and global objectives provide either gold or power ups for the entire team.**\n",
    "\n",
    "**Before feature selection and engineering we need to see if there are any missing values**"
   ]
  },
  {
   "cell_type": "code",
   "execution_count": 6,
   "metadata": {},
   "outputs": [
    {
     "name": "stdout",
     "output_type": "stream",
     "text": [
      "<class 'pandas.core.frame.DataFrame'>\n",
      "Int64Index: 36043 entries, 34146 to 15795\n",
      "Data columns (total 61 columns):\n",
      "gameId                36043 non-null int64\n",
      "creationTime          36043 non-null int64\n",
      "gameDuration          36043 non-null int64\n",
      "seasonId              36043 non-null int64\n",
      "winner                36043 non-null int64\n",
      "firstBlood            36043 non-null int64\n",
      "firstTower            36043 non-null int64\n",
      "firstInhibitor        36043 non-null int64\n",
      "firstBaron            36043 non-null int64\n",
      "firstDragon           36043 non-null int64\n",
      "firstRiftHerald       36043 non-null int64\n",
      "t1_champ1id           36043 non-null int64\n",
      "t1_champ1_sum1        36043 non-null int64\n",
      "t1_champ1_sum2        36043 non-null int64\n",
      "t1_champ2id           36043 non-null int64\n",
      "t1_champ2_sum1        36043 non-null int64\n",
      "t1_champ2_sum2        36043 non-null int64\n",
      "t1_champ3id           36043 non-null int64\n",
      "t1_champ3_sum1        36043 non-null int64\n",
      "t1_champ3_sum2        36043 non-null int64\n",
      "t1_champ4id           36043 non-null int64\n",
      "t1_champ4_sum1        36043 non-null int64\n",
      "t1_champ4_sum2        36043 non-null int64\n",
      "t1_champ5id           36043 non-null int64\n",
      "t1_champ5_sum1        36043 non-null int64\n",
      "t1_champ5_sum2        36043 non-null int64\n",
      "t1_towerKills         36043 non-null int64\n",
      "t1_inhibitorKills     36043 non-null int64\n",
      "t1_baronKills         36043 non-null int64\n",
      "t1_dragonKills        36043 non-null int64\n",
      "t1_riftHeraldKills    36043 non-null int64\n",
      "t1_ban1               36043 non-null int64\n",
      "t1_ban2               36043 non-null int64\n",
      "t1_ban3               36043 non-null int64\n",
      "t1_ban4               36043 non-null int64\n",
      "t1_ban5               36043 non-null int64\n",
      "t2_champ1id           36043 non-null int64\n",
      "t2_champ1_sum1        36043 non-null int64\n",
      "t2_champ1_sum2        36043 non-null int64\n",
      "t2_champ2id           36043 non-null int64\n",
      "t2_champ2_sum1        36043 non-null int64\n",
      "t2_champ2_sum2        36043 non-null int64\n",
      "t2_champ3id           36043 non-null int64\n",
      "t2_champ3_sum1        36043 non-null int64\n",
      "t2_champ3_sum2        36043 non-null int64\n",
      "t2_champ4id           36043 non-null int64\n",
      "t2_champ4_sum1        36043 non-null int64\n",
      "t2_champ4_sum2        36043 non-null int64\n",
      "t2_champ5id           36043 non-null int64\n",
      "t2_champ5_sum1        36043 non-null int64\n",
      "t2_champ5_sum2        36043 non-null int64\n",
      "t2_towerKills         36043 non-null int64\n",
      "t2_inhibitorKills     36043 non-null int64\n",
      "t2_baronKills         36043 non-null int64\n",
      "t2_dragonKills        36043 non-null int64\n",
      "t2_riftHeraldKills    36043 non-null int64\n",
      "t2_ban1               36043 non-null int64\n",
      "t2_ban2               36043 non-null int64\n",
      "t2_ban3               36043 non-null int64\n",
      "t2_ban4               36043 non-null int64\n",
      "t2_ban5               36043 non-null int64\n",
      "dtypes: int64(61)\n",
      "memory usage: 17.0 MB\n"
     ]
    }
   ],
   "source": [
    "games_train.info()"
   ]
  },
  {
   "cell_type": "code",
   "execution_count": 7,
   "metadata": {},
   "outputs": [
    {
     "data": {
      "text/plain": [
       "gameId                0\n",
       "creationTime          0\n",
       "gameDuration          0\n",
       "seasonId              0\n",
       "winner                0\n",
       "firstBlood            0\n",
       "firstTower            0\n",
       "firstInhibitor        0\n",
       "firstBaron            0\n",
       "firstDragon           0\n",
       "firstRiftHerald       0\n",
       "t1_champ1id           0\n",
       "t1_champ1_sum1        0\n",
       "t1_champ1_sum2        0\n",
       "t1_champ2id           0\n",
       "t1_champ2_sum1        0\n",
       "t1_champ2_sum2        0\n",
       "t1_champ3id           0\n",
       "t1_champ3_sum1        0\n",
       "t1_champ3_sum2        0\n",
       "t1_champ4id           0\n",
       "t1_champ4_sum1        0\n",
       "t1_champ4_sum2        0\n",
       "t1_champ5id           0\n",
       "t1_champ5_sum1        0\n",
       "t1_champ5_sum2        0\n",
       "t1_towerKills         0\n",
       "t1_inhibitorKills     0\n",
       "t1_baronKills         0\n",
       "t1_dragonKills        0\n",
       "                     ..\n",
       "t1_ban1               0\n",
       "t1_ban2               0\n",
       "t1_ban3               0\n",
       "t1_ban4               0\n",
       "t1_ban5               0\n",
       "t2_champ1id           0\n",
       "t2_champ1_sum1        0\n",
       "t2_champ1_sum2        0\n",
       "t2_champ2id           0\n",
       "t2_champ2_sum1        0\n",
       "t2_champ2_sum2        0\n",
       "t2_champ3id           0\n",
       "t2_champ3_sum1        0\n",
       "t2_champ3_sum2        0\n",
       "t2_champ4id           0\n",
       "t2_champ4_sum1        0\n",
       "t2_champ4_sum2        0\n",
       "t2_champ5id           0\n",
       "t2_champ5_sum1        0\n",
       "t2_champ5_sum2        0\n",
       "t2_towerKills         0\n",
       "t2_inhibitorKills     0\n",
       "t2_baronKills         0\n",
       "t2_dragonKills        0\n",
       "t2_riftHeraldKills    0\n",
       "t2_ban1               0\n",
       "t2_ban2               0\n",
       "t2_ban3               0\n",
       "t2_ban4               0\n",
       "t2_ban5               0\n",
       "Length: 61, dtype: int64"
      ]
     },
     "execution_count": 7,
     "metadata": {},
     "output_type": "execute_result"
    }
   ],
   "source": [
    "games_train.isnull().sum()"
   ]
  },
  {
   "cell_type": "markdown",
   "metadata": {},
   "source": [
    "**The data set does not contain any missing values and all columns contain integers. This is pretty fortunate because we don't have to encode any categorical values. However we could turn some columns into categorical data and then encode it later. For example, instead of having 5 separate columns for champion picks on each team, we could aggregate them into a column called Meta. Whether the team consisted of meta champions for that season.**"
   ]
  },
  {
   "cell_type": "code",
   "execution_count": 8,
   "metadata": {},
   "outputs": [
    {
     "data": {
      "text/html": [
       "<div>\n",
       "<style scoped>\n",
       "    .dataframe tbody tr th:only-of-type {\n",
       "        vertical-align: middle;\n",
       "    }\n",
       "\n",
       "    .dataframe tbody tr th {\n",
       "        vertical-align: top;\n",
       "    }\n",
       "\n",
       "    .dataframe thead th {\n",
       "        text-align: right;\n",
       "    }\n",
       "</style>\n",
       "<table border=\"1\" class=\"dataframe\">\n",
       "  <thead>\n",
       "    <tr style=\"text-align: right;\">\n",
       "      <th></th>\n",
       "      <th>gameId</th>\n",
       "      <th>creationTime</th>\n",
       "      <th>gameDuration</th>\n",
       "      <th>seasonId</th>\n",
       "      <th>winner</th>\n",
       "      <th>firstBlood</th>\n",
       "      <th>firstTower</th>\n",
       "      <th>firstInhibitor</th>\n",
       "      <th>firstBaron</th>\n",
       "      <th>firstDragon</th>\n",
       "      <th>...</th>\n",
       "      <th>t2_towerKills</th>\n",
       "      <th>t2_inhibitorKills</th>\n",
       "      <th>t2_baronKills</th>\n",
       "      <th>t2_dragonKills</th>\n",
       "      <th>t2_riftHeraldKills</th>\n",
       "      <th>t2_ban1</th>\n",
       "      <th>t2_ban2</th>\n",
       "      <th>t2_ban3</th>\n",
       "      <th>t2_ban4</th>\n",
       "      <th>t2_ban5</th>\n",
       "    </tr>\n",
       "  </thead>\n",
       "  <tbody>\n",
       "    <tr>\n",
       "      <th>count</th>\n",
       "      <td>3.604300e+04</td>\n",
       "      <td>3.604300e+04</td>\n",
       "      <td>36043.000000</td>\n",
       "      <td>36043.0</td>\n",
       "      <td>36043.000000</td>\n",
       "      <td>36043.000000</td>\n",
       "      <td>36043.000000</td>\n",
       "      <td>36043.000000</td>\n",
       "      <td>36043.000000</td>\n",
       "      <td>36043.000000</td>\n",
       "      <td>...</td>\n",
       "      <td>36043.000000</td>\n",
       "      <td>36043.000000</td>\n",
       "      <td>36043.000000</td>\n",
       "      <td>36043.000000</td>\n",
       "      <td>36043.000000</td>\n",
       "      <td>36043.000000</td>\n",
       "      <td>36043.000000</td>\n",
       "      <td>36043.000000</td>\n",
       "      <td>36043.000000</td>\n",
       "      <td>36043.000000</td>\n",
       "    </tr>\n",
       "    <tr>\n",
       "      <th>mean</th>\n",
       "      <td>3.306178e+09</td>\n",
       "      <td>1.502923e+12</td>\n",
       "      <td>1832.562273</td>\n",
       "      <td>9.0</td>\n",
       "      <td>1.494409</td>\n",
       "      <td>1.470466</td>\n",
       "      <td>1.450878</td>\n",
       "      <td>1.309214</td>\n",
       "      <td>0.924257</td>\n",
       "      <td>1.445301</td>\n",
       "      <td>...</td>\n",
       "      <td>5.559221</td>\n",
       "      <td>0.990206</td>\n",
       "      <td>0.413895</td>\n",
       "      <td>1.405682</td>\n",
       "      <td>0.241045</td>\n",
       "      <td>108.330716</td>\n",
       "      <td>108.260439</td>\n",
       "      <td>109.112505</td>\n",
       "      <td>108.759482</td>\n",
       "      <td>108.180840</td>\n",
       "    </tr>\n",
       "    <tr>\n",
       "      <th>std</th>\n",
       "      <td>2.949810e+07</td>\n",
       "      <td>1.980498e+09</td>\n",
       "      <td>511.736317</td>\n",
       "      <td>0.0</td>\n",
       "      <td>0.499976</td>\n",
       "      <td>0.520255</td>\n",
       "      <td>0.542970</td>\n",
       "      <td>0.675599</td>\n",
       "      <td>0.841814</td>\n",
       "      <td>0.569242</td>\n",
       "      <td>...</td>\n",
       "      <td>3.857588</td>\n",
       "      <td>1.262807</td>\n",
       "      <td>0.613137</td>\n",
       "      <td>1.224350</td>\n",
       "      <td>0.427724</td>\n",
       "      <td>102.791518</td>\n",
       "      <td>103.370247</td>\n",
       "      <td>102.411018</td>\n",
       "      <td>103.355282</td>\n",
       "      <td>102.891383</td>\n",
       "    </tr>\n",
       "    <tr>\n",
       "      <th>min</th>\n",
       "      <td>3.214824e+09</td>\n",
       "      <td>1.496892e+12</td>\n",
       "      <td>190.000000</td>\n",
       "      <td>9.0</td>\n",
       "      <td>1.000000</td>\n",
       "      <td>0.000000</td>\n",
       "      <td>0.000000</td>\n",
       "      <td>0.000000</td>\n",
       "      <td>0.000000</td>\n",
       "      <td>0.000000</td>\n",
       "      <td>...</td>\n",
       "      <td>0.000000</td>\n",
       "      <td>0.000000</td>\n",
       "      <td>0.000000</td>\n",
       "      <td>0.000000</td>\n",
       "      <td>0.000000</td>\n",
       "      <td>-1.000000</td>\n",
       "      <td>-1.000000</td>\n",
       "      <td>-1.000000</td>\n",
       "      <td>-1.000000</td>\n",
       "      <td>-1.000000</td>\n",
       "    </tr>\n",
       "    <tr>\n",
       "      <th>25%</th>\n",
       "      <td>3.292195e+09</td>\n",
       "      <td>1.502018e+12</td>\n",
       "      <td>1534.000000</td>\n",
       "      <td>9.0</td>\n",
       "      <td>1.000000</td>\n",
       "      <td>1.000000</td>\n",
       "      <td>1.000000</td>\n",
       "      <td>1.000000</td>\n",
       "      <td>0.000000</td>\n",
       "      <td>1.000000</td>\n",
       "      <td>...</td>\n",
       "      <td>2.000000</td>\n",
       "      <td>0.000000</td>\n",
       "      <td>0.000000</td>\n",
       "      <td>0.000000</td>\n",
       "      <td>0.000000</td>\n",
       "      <td>38.000000</td>\n",
       "      <td>36.000000</td>\n",
       "      <td>38.000000</td>\n",
       "      <td>38.000000</td>\n",
       "      <td>38.000000</td>\n",
       "    </tr>\n",
       "    <tr>\n",
       "      <th>50%</th>\n",
       "      <td>3.319965e+09</td>\n",
       "      <td>1.503844e+12</td>\n",
       "      <td>1834.000000</td>\n",
       "      <td>9.0</td>\n",
       "      <td>1.000000</td>\n",
       "      <td>1.000000</td>\n",
       "      <td>1.000000</td>\n",
       "      <td>1.000000</td>\n",
       "      <td>1.000000</td>\n",
       "      <td>1.000000</td>\n",
       "      <td>...</td>\n",
       "      <td>6.000000</td>\n",
       "      <td>0.000000</td>\n",
       "      <td>0.000000</td>\n",
       "      <td>1.000000</td>\n",
       "      <td>0.000000</td>\n",
       "      <td>90.000000</td>\n",
       "      <td>90.000000</td>\n",
       "      <td>90.000000</td>\n",
       "      <td>90.000000</td>\n",
       "      <td>90.000000</td>\n",
       "    </tr>\n",
       "    <tr>\n",
       "      <th>75%</th>\n",
       "      <td>3.327102e+09</td>\n",
       "      <td>1.504352e+12</td>\n",
       "      <td>2147.000000</td>\n",
       "      <td>9.0</td>\n",
       "      <td>2.000000</td>\n",
       "      <td>2.000000</td>\n",
       "      <td>2.000000</td>\n",
       "      <td>2.000000</td>\n",
       "      <td>2.000000</td>\n",
       "      <td>2.000000</td>\n",
       "      <td>...</td>\n",
       "      <td>9.000000</td>\n",
       "      <td>2.000000</td>\n",
       "      <td>1.000000</td>\n",
       "      <td>2.000000</td>\n",
       "      <td>0.000000</td>\n",
       "      <td>141.000000</td>\n",
       "      <td>141.000000</td>\n",
       "      <td>141.000000</td>\n",
       "      <td>141.000000</td>\n",
       "      <td>141.000000</td>\n",
       "    </tr>\n",
       "    <tr>\n",
       "      <th>max</th>\n",
       "      <td>3.331833e+09</td>\n",
       "      <td>1.504707e+12</td>\n",
       "      <td>4220.000000</td>\n",
       "      <td>9.0</td>\n",
       "      <td>2.000000</td>\n",
       "      <td>2.000000</td>\n",
       "      <td>2.000000</td>\n",
       "      <td>2.000000</td>\n",
       "      <td>2.000000</td>\n",
       "      <td>2.000000</td>\n",
       "      <td>...</td>\n",
       "      <td>11.000000</td>\n",
       "      <td>10.000000</td>\n",
       "      <td>4.000000</td>\n",
       "      <td>6.000000</td>\n",
       "      <td>1.000000</td>\n",
       "      <td>516.000000</td>\n",
       "      <td>516.000000</td>\n",
       "      <td>516.000000</td>\n",
       "      <td>516.000000</td>\n",
       "      <td>516.000000</td>\n",
       "    </tr>\n",
       "  </tbody>\n",
       "</table>\n",
       "<p>8 rows × 61 columns</p>\n",
       "</div>"
      ],
      "text/plain": [
       "             gameId  creationTime  gameDuration  seasonId        winner  \\\n",
       "count  3.604300e+04  3.604300e+04  36043.000000   36043.0  36043.000000   \n",
       "mean   3.306178e+09  1.502923e+12   1832.562273       9.0      1.494409   \n",
       "std    2.949810e+07  1.980498e+09    511.736317       0.0      0.499976   \n",
       "min    3.214824e+09  1.496892e+12    190.000000       9.0      1.000000   \n",
       "25%    3.292195e+09  1.502018e+12   1534.000000       9.0      1.000000   \n",
       "50%    3.319965e+09  1.503844e+12   1834.000000       9.0      1.000000   \n",
       "75%    3.327102e+09  1.504352e+12   2147.000000       9.0      2.000000   \n",
       "max    3.331833e+09  1.504707e+12   4220.000000       9.0      2.000000   \n",
       "\n",
       "         firstBlood    firstTower  firstInhibitor    firstBaron   firstDragon  \\\n",
       "count  36043.000000  36043.000000    36043.000000  36043.000000  36043.000000   \n",
       "mean       1.470466      1.450878        1.309214      0.924257      1.445301   \n",
       "std        0.520255      0.542970        0.675599      0.841814      0.569242   \n",
       "min        0.000000      0.000000        0.000000      0.000000      0.000000   \n",
       "25%        1.000000      1.000000        1.000000      0.000000      1.000000   \n",
       "50%        1.000000      1.000000        1.000000      1.000000      1.000000   \n",
       "75%        2.000000      2.000000        2.000000      2.000000      2.000000   \n",
       "max        2.000000      2.000000        2.000000      2.000000      2.000000   \n",
       "\n",
       "       ...  t2_towerKills  t2_inhibitorKills  t2_baronKills  t2_dragonKills  \\\n",
       "count  ...   36043.000000       36043.000000   36043.000000    36043.000000   \n",
       "mean   ...       5.559221           0.990206       0.413895        1.405682   \n",
       "std    ...       3.857588           1.262807       0.613137        1.224350   \n",
       "min    ...       0.000000           0.000000       0.000000        0.000000   \n",
       "25%    ...       2.000000           0.000000       0.000000        0.000000   \n",
       "50%    ...       6.000000           0.000000       0.000000        1.000000   \n",
       "75%    ...       9.000000           2.000000       1.000000        2.000000   \n",
       "max    ...      11.000000          10.000000       4.000000        6.000000   \n",
       "\n",
       "       t2_riftHeraldKills       t2_ban1       t2_ban2       t2_ban3  \\\n",
       "count        36043.000000  36043.000000  36043.000000  36043.000000   \n",
       "mean             0.241045    108.330716    108.260439    109.112505   \n",
       "std              0.427724    102.791518    103.370247    102.411018   \n",
       "min              0.000000     -1.000000     -1.000000     -1.000000   \n",
       "25%              0.000000     38.000000     36.000000     38.000000   \n",
       "50%              0.000000     90.000000     90.000000     90.000000   \n",
       "75%              0.000000    141.000000    141.000000    141.000000   \n",
       "max              1.000000    516.000000    516.000000    516.000000   \n",
       "\n",
       "            t2_ban4       t2_ban5  \n",
       "count  36043.000000  36043.000000  \n",
       "mean     108.759482    108.180840  \n",
       "std      103.355282    102.891383  \n",
       "min       -1.000000     -1.000000  \n",
       "25%       38.000000     38.000000  \n",
       "50%       90.000000     90.000000  \n",
       "75%      141.000000    141.000000  \n",
       "max      516.000000    516.000000  \n",
       "\n",
       "[8 rows x 61 columns]"
      ]
     },
     "execution_count": 8,
     "metadata": {},
     "output_type": "execute_result"
    }
   ],
   "source": [
    "games_train.describe()"
   ]
  },
  {
   "cell_type": "code",
   "execution_count": 9,
   "metadata": {},
   "outputs": [
    {
     "data": {
      "text/plain": [
       "1    18223\n",
       "2    17820\n",
       "Name: winner, dtype: int64"
      ]
     },
     "execution_count": 9,
     "metadata": {},
     "output_type": "execute_result"
    }
   ],
   "source": [
    "games_train['winner'].value_counts()"
   ]
  },
  {
   "cell_type": "markdown",
   "metadata": {},
   "source": [
    "**Team 1 won 50.56% of the games and team 2 won 49.44% of the games. It's going to be hard to determine why each team won their game when these numbers are so close. Maybe there was a determinant factor that lead to these games being won?**\n",
    "\n",
    "**From domain knowledge I can say some important milestones are first blood,first dragon,first tower, first baron, first inhibitor. These were pretty important factors in winning games**"
   ]
  },
  {
   "cell_type": "code",
   "execution_count": 10,
   "metadata": {},
   "outputs": [
    {
     "data": {
      "text/plain": [
       "1    18310\n",
       "2    17345\n",
       "0      388\n",
       "Name: firstBlood, dtype: int64"
      ]
     },
     "execution_count": 10,
     "metadata": {},
     "output_type": "execute_result"
    }
   ],
   "source": [
    "games_train['firstBlood'].value_counts()"
   ]
  },
  {
   "cell_type": "markdown",
   "metadata": {},
   "source": [
    "**388 games had no first blood meaning there were some early surrenders/remakes. Team 1 has more first bloods than wins, which means they got first blood some games but still ended up losing.**"
   ]
  },
  {
   "cell_type": "code",
   "execution_count": 11,
   "metadata": {},
   "outputs": [
    {
     "data": {
      "text/plain": [
       "1    18090\n",
       "2    17102\n",
       "0      851\n",
       "Name: firstTower, dtype: int64"
      ]
     },
     "execution_count": 11,
     "metadata": {},
     "output_type": "execute_result"
    }
   ],
   "source": [
    "games_train['firstTower'].value_counts()"
   ]
  },
  {
   "cell_type": "markdown",
   "metadata": {},
   "source": [
    "**It seems that there is a high correlation between first towers and winning a game. However, even though a team took the first tower that does not mean they won. There are so many other factors that should be considered.**"
   ]
  },
  {
   "cell_type": "code",
   "execution_count": 12,
   "metadata": {},
   "outputs": [
    {
     "data": {
      "text/plain": [
       "2    17438\n",
       "1    17217\n",
       "0     1388\n",
       "Name: firstDragon, dtype: int64"
      ]
     },
     "execution_count": 12,
     "metadata": {},
     "output_type": "execute_result"
    }
   ],
   "source": [
    "games_train['firstDragon'].value_counts()"
   ]
  },
  {
   "cell_type": "code",
   "execution_count": 13,
   "metadata": {},
   "outputs": [
    {
     "data": {
      "text/plain": [
       "0    14239\n",
       "2    11509\n",
       "1    10295\n",
       "Name: firstBaron, dtype: int64"
      ]
     },
     "execution_count": 13,
     "metadata": {},
     "output_type": "execute_result"
    }
   ],
   "source": [
    "games_train['firstBaron'].value_counts()"
   ]
  },
  {
   "cell_type": "code",
   "execution_count": 14,
   "metadata": {},
   "outputs": [
    {
     "data": {
      "text/plain": [
       "1    16146\n",
       "2    15521\n",
       "0     4376\n",
       "Name: firstInhibitor, dtype: int64"
      ]
     },
     "execution_count": 14,
     "metadata": {},
     "output_type": "execute_result"
    }
   ],
   "source": [
    "games_train['firstInhibitor'].value_counts()"
   ]
  },
  {
   "cell_type": "code",
   "execution_count": 15,
   "metadata": {},
   "outputs": [
    {
     "data": {
      "text/plain": [
       "<matplotlib.axes._subplots.AxesSubplot at 0x194f92d0>"
      ]
     },
     "execution_count": 15,
     "metadata": {},
     "output_type": "execute_result"
    },
    {
     "data": {
      "image/png": "[encoded data removed]",
      "text/plain": [
       "<Figure size 432x288 with 1 Axes>"
      ]
     },
     "metadata": {
      "needs_background": "light"
     },
     "output_type": "display_data"
    }
   ],
   "source": [
    "sns.countplot(x='firstDragon',data=games_train)"
   ]
  },
  {
   "cell_type": "code",
   "execution_count": 16,
   "metadata": {},
   "outputs": [
    {
     "data": {
      "text/plain": [
       "<matplotlib.axes._subplots.AxesSubplot at 0x19639a10>"
      ]
     },
     "execution_count": 16,
     "metadata": {},
     "output_type": "execute_result"
    },
    {
     "data": {
      "image/png": "[encoded data removed]",
      "text/plain": [
       "<Figure size 432x288 with 1 Axes>"
      ]
     },
     "metadata": {
      "needs_background": "light"
     },
     "output_type": "display_data"
    }
   ],
   "source": [
    "sns.countplot(x='winner',data=games_train,hue='firstDragon')"
   ]
  },
  {
   "cell_type": "code",
   "execution_count": 17,
   "metadata": {},
   "outputs": [
    {
     "data": {
      "text/plain": [
       "<matplotlib.axes._subplots.AxesSubplot at 0x19680b90>"
      ]
     },
     "execution_count": 17,
     "metadata": {},
     "output_type": "execute_result"
    },
    {
     "data": {
      "image/png": "[encoded data removed]",
      "text/plain": [
       "<Figure size 432x288 with 1 Axes>"
      ]
     },
     "metadata": {
      "needs_background": "light"
     },
     "output_type": "display_data"
    }
   ],
   "source": [
    "sns.countplot(x='winner',data=games_train,hue='firstBlood')"
   ]
  },
  {
   "cell_type": "code",
   "execution_count": 18,
   "metadata": {},
   "outputs": [
    {
     "data": {
      "text/plain": [
       "<matplotlib.axes._subplots.AxesSubplot at 0x196c9050>"
      ]
     },
     "execution_count": 18,
     "metadata": {},
     "output_type": "execute_result"
    },
    {
     "data": {
      "image/png": "[encoded data removed]",
      "text/plain": [
       "<Figure size 432x288 with 1 Axes>"
      ]
     },
     "metadata": {
      "needs_background": "light"
     },
     "output_type": "display_data"
    }
   ],
   "source": [
    "sns.countplot(x='winner',data=games_train,hue='firstTower')"
   ]
  },
  {
   "cell_type": "code",
   "execution_count": 19,
   "metadata": {},
   "outputs": [
    {
     "data": {
      "text/plain": [
       "<matplotlib.axes._subplots.AxesSubplot at 0x19708270>"
      ]
     },
     "execution_count": 19,
     "metadata": {},
     "output_type": "execute_result"
    },
    {
     "data": {
      "image/png": "[encoded data removed]",
      "text/plain": [
       "<Figure size 432x288 with 1 Axes>"
      ]
     },
     "metadata": {
      "needs_background": "light"
     },
     "output_type": "display_data"
    }
   ],
   "source": [
    "sns.countplot(x='winner',data=games_train,hue='firstBaron')"
   ]
  },
  {
   "cell_type": "code",
   "execution_count": 20,
   "metadata": {},
   "outputs": [
    {
     "data": {
      "text/plain": [
       "<matplotlib.axes._subplots.AxesSubplot at 0x1973ec50>"
      ]
     },
     "execution_count": 20,
     "metadata": {},
     "output_type": "execute_result"
    },
    {
     "data": {
      "image/png": "[encoded data removed]",
      "text/plain": [
       "<Figure size 432x288 with 1 Axes>"
      ]
     },
     "metadata": {
      "needs_background": "light"
     },
     "output_type": "display_data"
    }
   ],
   "source": [
    "sns.countplot(x='winner',data=games_train,hue='firstInhibitor')"
   ]
  },
  {
   "cell_type": "markdown",
   "metadata": {},
   "source": [
    "# Comparing these different features:\n",
    "\n",
    "1. These features all highly correlate with what team won that game. \n",
    "2. It seems like global objectives such as towers,dragons, and an extremely high correlation between first inhibitor and winning a game. \n",
    "3. First baron does not seem as important but we should take into consideration the length of these games as well. Baron does not spawn until 15 minutes the last time I played. "
   ]
  },
  {
   "cell_type": "code",
   "execution_count": 21,
   "metadata": {},
   "outputs": [],
   "source": [
    "corr_matrix = games_train.corr()"
   ]
  },
  {
   "cell_type": "code",
   "execution_count": 22,
   "metadata": {},
   "outputs": [
    {
     "data": {
      "text/plain": [
       "winner                1.000000\n",
       "t2_towerKills         0.785619\n",
       "t2_inhibitorKills     0.659016\n",
       "firstInhibitor        0.538081\n",
       "t2_dragonKills        0.499650\n",
       "t2_baronKills         0.395373\n",
       "firstTower            0.370933\n",
       "firstDragon           0.311444\n",
       "firstBaron            0.258592\n",
       "t2_riftHeraldKills    0.220375\n",
       "firstBlood            0.174431\n",
       "firstRiftHerald       0.114725\n",
       "t1_champ5id           0.028862\n",
       "gameDuration          0.025400\n",
       "t1_champ1id           0.020139\n",
       "t1_champ3id           0.017530\n",
       "t1_champ4id           0.017277\n",
       "creationTime          0.012595\n",
       "gameId                0.012415\n",
       "t1_champ2id           0.011424\n",
       "t1_ban1               0.008550\n",
       "t2_champ3_sum1        0.006164\n",
       "t2_champ2_sum2        0.006124\n",
       "t2_ban2               0.005874\n",
       "t1_ban2               0.005661\n",
       "t1_ban4               0.005539\n",
       "t2_ban3               0.005274\n",
       "t2_champ5_sum2        0.004576\n",
       "t2_champ2_sum1        0.004175\n",
       "t1_champ3_sum1        0.003322\n",
       "                        ...   \n",
       "t1_champ5_sum2        0.003005\n",
       "t1_champ4_sum1        0.002751\n",
       "t2_champ4_sum2        0.002525\n",
       "t2_champ4_sum1        0.002457\n",
       "t1_champ2_sum1        0.000275\n",
       "t2_champ1_sum2       -0.000465\n",
       "t2_champ1_sum1       -0.001018\n",
       "t1_champ4_sum2       -0.001187\n",
       "t2_champ3_sum2       -0.001842\n",
       "t1_champ1_sum2       -0.002007\n",
       "t1_champ3_sum2       -0.002406\n",
       "t2_ban1              -0.002427\n",
       "t1_ban5              -0.003160\n",
       "t1_champ1_sum1       -0.003503\n",
       "t1_champ2_sum2       -0.003937\n",
       "t2_ban5              -0.004604\n",
       "t2_champ5id          -0.006422\n",
       "t1_champ5_sum1       -0.007027\n",
       "t2_ban4              -0.009723\n",
       "t2_champ5_sum1       -0.010013\n",
       "t2_champ3id          -0.010246\n",
       "t2_champ4id          -0.012494\n",
       "t2_champ1id          -0.013342\n",
       "t2_champ2id          -0.014164\n",
       "t1_riftHeraldKills   -0.217146\n",
       "t1_baronKills        -0.365970\n",
       "t1_dragonKills       -0.472143\n",
       "t1_inhibitorKills    -0.647189\n",
       "t1_towerKills        -0.769246\n",
       "seasonId                   NaN\n",
       "Name: winner, Length: 61, dtype: float64"
      ]
     },
     "execution_count": 22,
     "metadata": {},
     "output_type": "execute_result"
    }
   ],
   "source": [
    "corr_matrix['winner'].sort_values(ascending=False)"
   ]
  },
  {
   "cell_type": "code",
   "execution_count": 23,
   "metadata": {},
   "outputs": [
    {
     "data": {
      "text/plain": [
       "<matplotlib.axes._subplots.AxesSubplot at 0x194f9cd0>"
      ]
     },
     "execution_count": 23,
     "metadata": {},
     "output_type": "execute_result"
    },
    {
     "data": {
      "image/png": "[encoded data removed]",
      "text/plain": [
       "<Figure size 432x288 with 1 Axes>"
      ]
     },
     "metadata": {
      "needs_background": "light"
     },
     "output_type": "display_data"
    }
   ],
   "source": [
    "sns.countplot(x='t2_towerKills',data=games_train,hue='winner')"
   ]
  },
  {
   "cell_type": "code",
   "execution_count": 24,
   "metadata": {},
   "outputs": [
    {
     "data": {
      "text/plain": [
       "<matplotlib.axes._subplots.AxesSubplot at 0x197e8e90>"
      ]
     },
     "execution_count": 24,
     "metadata": {},
     "output_type": "execute_result"
    },
    {
     "data": {
      "image/png": "[encoded data removed]",
      "text/plain": [
       "<Figure size 432x288 with 1 Axes>"
      ]
     },
     "metadata": {
      "needs_background": "light"
     },
     "output_type": "display_data"
    }
   ],
   "source": [
    "sns.countplot(x='t1_towerKills',data=games_train,hue='winner')"
   ]
  },
  {
   "cell_type": "code",
   "execution_count": 25,
   "metadata": {},
   "outputs": [
    {
     "data": {
      "text/plain": [
       "t1_ban1  seasonId\n",
       "157      9           2364\n",
       "238      9           1758\n",
       "31       9           1710\n",
       "122      9           1638\n",
       "40       9           1437\n",
       "119      9           1409\n",
       "53       9           1359\n",
       "141      9           1179\n",
       "29       9           1166\n",
       "154      9           1135\n",
       "114      9           1055\n",
       "117      9            935\n",
       "105      9            934\n",
       "18       9            905\n",
       "11       9            818\n",
       "51       9            656\n",
       "67       9            601\n",
       "75       9            559\n",
       "57       9            500\n",
       "64       9            488\n",
       "23       9            423\n",
       "516      9            420\n",
       "412      9            420\n",
       "498      9            405\n",
       "55       9            404\n",
       "19       9            393\n",
       "90       9            383\n",
       "38       9            382\n",
       "113      9            346\n",
       "16       9            344\n",
       "                     ... \n",
       "268      9             25\n",
       "15       9             25\n",
       "421      9             23\n",
       "133      9             21\n",
       "163      9             21\n",
       "68       9             21\n",
       "111      9             20\n",
       "267      9             18\n",
       "4        9             18\n",
       "48       9             18\n",
       "62       9             17\n",
       "76       9             17\n",
       "106      9             16\n",
       "115      9             15\n",
       "43       9             15\n",
       "44       9             14\n",
       "104      9             12\n",
       "98       9             12\n",
       "127      9             12\n",
       "26       9             11\n",
       "14       9             10\n",
       "110      9             10\n",
       "203      9             10\n",
       "101      9              8\n",
       "30       9              8\n",
       "78       9              8\n",
       "77       9              7\n",
       "13       9              5\n",
       "112      9              5\n",
       "72       9              4\n",
       "Name: seasonId, Length: 139, dtype: int64"
      ]
     },
     "execution_count": 25,
     "metadata": {},
     "output_type": "execute_result"
    }
   ],
   "source": [
    "games_train.groupby(['t1_ban1'])['seasonId'].value_counts().sort_values(ascending=False)"
   ]
  },
  {
   "cell_type": "code",
   "execution_count": 26,
   "metadata": {},
   "outputs": [
    {
     "data": {
      "text/plain": [
       "t2_ban1  seasonId\n",
       "157      9           2303\n",
       "31       9           1783\n",
       "238      9           1774\n",
       "40       9           1625\n",
       "122      9           1617\n",
       "119      9           1379\n",
       "53       9           1291\n",
       "141      9           1256\n",
       "154      9           1123\n",
       "29       9           1084\n",
       "114      9           1043\n",
       "105      9            958\n",
       "18       9            942\n",
       "117      9            929\n",
       "11       9            800\n",
       "51       9            748\n",
       "67       9            597\n",
       "75       9            541\n",
       "57       9            522\n",
       "55       9            457\n",
       "64       9            438\n",
       "412      9            435\n",
       "498      9            433\n",
       "516      9            413\n",
       "90       9            397\n",
       "38       9            387\n",
       "23       9            380\n",
       "19       9            370\n",
       "113      9            370\n",
       "92       9            350\n",
       "                     ... \n",
       "421      9             21\n",
       "15       9             20\n",
       "267      9             20\n",
       "127      9             20\n",
       "133      9             18\n",
       "163      9             18\n",
       "104      9             17\n",
       "26       9             17\n",
       "9        9             17\n",
       "43       9             17\n",
       "4        9             16\n",
       "2        9             16\n",
       "78       9             16\n",
       "115      9             15\n",
       "98       9             14\n",
       "203      9             13\n",
       "76       9             12\n",
       "30       9             12\n",
       "48       9             11\n",
       "111      9             11\n",
       "56       9             10\n",
       "82       9             10\n",
       "44       9              9\n",
       "110      9              8\n",
       "106      9              7\n",
       "112      9              7\n",
       "14       9              7\n",
       "13       9              5\n",
       "77       9              4\n",
       "72       9              4\n",
       "Name: seasonId, Length: 139, dtype: int64"
      ]
     },
     "execution_count": 26,
     "metadata": {},
     "output_type": "execute_result"
    }
   ],
   "source": [
    "games_train.groupby(['t2_ban1'])['seasonId'].value_counts().sort_values(ascending=False)"
   ]
  },
  {
   "cell_type": "code",
   "execution_count": 27,
   "metadata": {},
   "outputs": [
    {
     "name": "stdout",
     "output_type": "stream",
     "text": [
      "Team 1 banned 157 157    11624\n",
      "Name: t1_ban1, dtype: int64 times.\n",
      "Team 2 banned 157 157    11472\n",
      "Name: t2_ban1, dtype: int64 times.\n"
     ]
    }
   ],
   "source": [
    "sum_157_1 = 0\n",
    "sum_157_2 = 0\n",
    "for i in range(1,3):\n",
    "    for j in range(1,6):\n",
    "        if i == 1:\n",
    "            sum_157_1 += games_train[games_train['t' + str(i) + '_ban' + str(j)] == 157]['t' + str(i) + '_ban' + str(j)].value_counts()\n",
    "        else:\n",
    "            sum_157_2 += games_train[games_train['t' + str(i) + '_ban' + str(j)] == 157]['t' + str(i) + '_ban' + str(j)].value_counts()\n",
    "\n",
    "print('Team 1 banned 157 %s times.' % str(sum_157_1))\n",
    "print('Team 2 banned 157 %s times.' % str(sum_157_2))\n"
   ]
  },
  {
   "cell_type": "code",
   "execution_count": 31,
   "metadata": {},
   "outputs": [
    {
     "name": "stderr",
     "output_type": "stream",
     "text": [
      "c:\\users\\krist\\appdata\\local\\programs\\python\\python37-32\\lib\\site-packages\\ipykernel_launcher.py:1: SettingWithCopyWarning: \n",
      "A value is trying to be set on a copy of a slice from a DataFrame.\n",
      "Try using .loc[row_indexer,col_indexer] = value instead\n",
      "\n",
      "See the caveats in the documentation: http://pandas.pydata.org/pandas-docs/stable/indexing.html#indexing-view-versus-copy\n",
      "  \"\"\"Entry point for launching an IPython kernel.\n"
     ]
    }
   ],
   "source": [
    "games_train['gameDuration']=games_train['gameDuration'].apply(lambda x: x/60)"
   ]
  },
  {
   "cell_type": "code",
   "execution_count": 34,
   "metadata": {},
   "outputs": [
    {
     "data": {
      "text/plain": [
       "<matplotlib.axes._subplots.AxesSubplot at 0xb728b0>"
      ]
     },
     "execution_count": 34,
     "metadata": {},
     "output_type": "execute_result"
    },
    {
     "data": {
      "image/png": "[encoded data removed]",
      "text/plain": [
       "<Figure size 432x288 with 1 Axes>"
      ]
     },
     "metadata": {
      "needs_background": "light"
     },
     "output_type": "display_data"
    }
   ],
   "source": [
    "games_train['gameDuration'].hist()"
   ]
  },
  {
   "cell_type": "code",
   "execution_count": 131,
   "metadata": {},
   "outputs": [],
   "source": [
    "tower = games_train[['firstInhibitor','winner']]"
   ]
  },
  {
   "cell_type": "code",
   "execution_count": 132,
   "metadata": {},
   "outputs": [],
   "source": [
    "winner_1 = 18223\n",
    "winner_2 = 17820"
   ]
  },
  {
   "cell_type": "code",
   "execution_count": 133,
   "metadata": {},
   "outputs": [
    {
     "name": "stderr",
     "output_type": "stream",
     "text": [
      "c:\\users\\krist\\appdata\\local\\programs\\python\\python37-32\\lib\\site-packages\\ipykernel_launcher.py:1: UserWarning: Boolean Series key will be reindexed to match DataFrame index.\n",
      "  \"\"\"Entry point for launching an IPython kernel.\n"
     ]
    },
    {
     "data": {
      "text/plain": [
       "80.31059649892993"
      ]
     },
     "execution_count": 133,
     "metadata": {},
     "output_type": "execute_result"
    }
   ],
   "source": [
    "(tower[games_train['firstInhibitor']==1][games_train['winner']==1].sum()['winner']/winner_1) * 100"
   ]
  },
  {
   "cell_type": "code",
   "execution_count": 68,
   "metadata": {},
   "outputs": [
    {
     "data": {
      "text/plain": [
       "69.90067497119026"
      ]
     },
     "execution_count": 68,
     "metadata": {},
     "output_type": "execute_result"
    }
   ],
   "source": [
    "first_tower_win_1"
   ]
  },
  {
   "cell_type": "code",
   "execution_count": 114,
   "metadata": {},
   "outputs": [],
   "source": [
    "def calc_win_percent(team,feature,data,winner):\n",
    "    win = data[[feature,'winner']]\n",
    "    if team == 1:\n",
    "        win = (win[data[feature] == team][data['winner']==team].sum()['winner']/winner) * 100\n",
    "    else:\n",
    "        win = ((win[data[feature] == team][data['winner']==team].sum()/2)['winner']/winner) * 100\n",
    "    return win"
   ]
  },
  {
   "cell_type": "code",
   "execution_count": 106,
   "metadata": {},
   "outputs": [
    {
     "name": "stderr",
     "output_type": "stream",
     "text": [
      "c:\\users\\krist\\appdata\\local\\programs\\python\\python37-32\\lib\\site-packages\\ipykernel_launcher.py:3: UserWarning: Boolean Series key will be reindexed to match DataFrame index.\n",
      "  This is separate from the ipykernel package so we can avoid doing imports until\n"
     ]
    }
   ],
   "source": [
    "first_tower_win_1 = calc_win_percent(1,'firstTower',games_train,winner_1)"
   ]
  },
  {
   "cell_type": "code",
   "execution_count": 123,
   "metadata": {},
   "outputs": [
    {
     "name": "stderr",
     "output_type": "stream",
     "text": [
      "c:\\users\\krist\\appdata\\local\\programs\\python\\python37-32\\lib\\site-packages\\ipykernel_launcher.py:4: UserWarning: Boolean Series key will be reindexed to match DataFrame index.\n",
      "  after removing the cwd from sys.path.\n",
      "c:\\users\\krist\\appdata\\local\\programs\\python\\python37-32\\lib\\site-packages\\ipykernel_launcher.py:6: UserWarning: Boolean Series key will be reindexed to match DataFrame index.\n",
      "  \n"
     ]
    }
   ],
   "source": [
    "first_features = []\n",
    "features = ['firstTower','firstBlood','firstInhibitor','firstDragon','firstBaron']\n",
    "firstTower_win1 = calc_win_percent(1,'firstTower',games_train,winner_1)\n",
    "first_features.append(firstTower_win1)\n",
    "\n",
    "firstTower_win2 = calc_win_percent(2,'firstTower',games_train,winner_2)\n",
    "first_features.append(firstTower_win2)\n",
    "\n",
    "firstBlood_win1 = calc_win_percent(1,'firstBlood',games_train,winner_1)\n",
    "first_features.append(firstBlood_win1)\n",
    "\n",
    "firstBlood_win2= calc_win_percent(2,'firstBlood',games_train,winner_2)\n",
    "first_features.append(firstBlood_win2)\n",
    "\n",
    "firstInhib_win1 = calc_win_percent(1,'firstInhibitor',games_train,winner_1)\n",
    "first_features.append(firstInhib_win1)\n",
    "\n",
    "firstInhib_win2 = calc_win_percent(2,'firstInhibitor',games_train,winner_2)\n",
    "first_features.append(firstInhib_win2)\n",
    "\n",
    "firstDragon_win1 = calc_win_percent(1,'firstDragon',games_train,winner_1)\n",
    "first_features.append(firstDragon_win1)\n",
    "\n",
    "firstDragon_win2 = calc_win_percent(2,'firstDragon',games_train,winner_2)\n",
    "first_features.append(firstDragon_win2)\n",
    "\n",
    "firstBaron_win1 = calc_win_percent(1,'firstBaron',games_train,winner_1)\n",
    "first_features.append(firstBaron_win1)\n",
    "\n",
    "firstBaron_win2 = calc_win_percent(2,'firstBaron',games_train,winner_2)\n",
    "first_features.append(firstBaron_win2)\n"
   ]
  },
  {
   "cell_type": "code",
   "execution_count": 150,
   "metadata": {},
   "outputs": [
    {
     "name": "stdout",
     "output_type": "stream",
     "text": [
      "firstTower:\n",
      "Team 1 - 69.90067497119026 win rate \n",
      "Team 2- 67.71043771043772 win rate \n",
      "firstBlood:\n",
      "Team 1 - 59.61147999780497 win rate \n",
      "Team 2- 57.21661054994388 win rate \n",
      "firstInhibitor:\n",
      "Team 1 - 80.31059649892993 win rate \n",
      "Team 2- 79.60157126823793 win rate \n",
      "firstDragon:\n",
      "Team 1 - 64.78077155243373 win rate \n",
      "Team 2- 66.04377104377105 win rate \n",
      "firstBaron:\n",
      "Team 1 - 45.61268726334852 win rate \n",
      "Team 2- 51.65544332210998 win rate \n"
     ]
    }
   ],
   "source": [
    "i =0\n",
    "while i < len(features):\n",
    "    print('%s:' % features[i])\n",
    "    \n",
    "    print('Team 1 - %s win rate '% first_features[2*i])\n",
    "    print('Team 2- %s win rate ' % first_features[2*i+1])\n",
    "    i += 1"
   ]
  },
  {
   "cell_type": "code",
   "execution_count": 162,
   "metadata": {},
   "outputs": [],
   "source": [
    "team =[1,2]\n",
    "\n",
    "first_team = [first_features[i] for i in range(0,9,2)]\n",
    "second_team = [first_features[i] for i in range(1,10,2)]"
   ]
  },
  {
   "cell_type": "code",
   "execution_count": 178,
   "metadata": {},
   "outputs": [],
   "source": [
    "win_probability = pd.DataFrame([first_team,second_team],columns=features,index=[team]).reset_index()"
   ]
  },
  {
   "cell_type": "code",
   "execution_count": 183,
   "metadata": {},
   "outputs": [],
   "source": [
    "win_probability=win_probability.rename(columns={'level_0':'winner'})"
   ]
  },
  {
   "cell_type": "code",
   "execution_count": 222,
   "metadata": {},
   "outputs": [
    {
     "data": {
      "text/plain": [
       "<matplotlib.legend.Legend at 0x225ee210>"
      ]
     },
     "execution_count": 222,
     "metadata": {},
     "output_type": "execute_result"
    },
    {
     "data": {
      "image/png": "[encoded data removed]",
      "text/plain": [
       "<Figure size 720x360 with 1 Axes>"
      ]
     },
     "metadata": {
      "needs_background": "light"
     },
     "output_type": "display_data"
    }
   ],
   "source": [
    "pos = list(range(len(win_probability['winner'])))\n",
    "width = 0.10\n",
    "\n",
    "#plotting the bars\n",
    "fig,ax= plt.subplots(figsize=(10,5))\n",
    "\n",
    "#create a bar with firstblood data, in position pos\n",
    "\n",
    "plt.bar(pos,\n",
    "       win_probability['firstTower'],\n",
    "       width,\n",
    "       alpha=0.5,\n",
    "       color ='#DC143C',\n",
    "       label=win_probability.columns[1])\n",
    "\n",
    "plt.bar([p + width for p in pos],\n",
    "       win_probability['firstBlood'],\n",
    "       width,\n",
    "       alpha=0.5,\n",
    "       color ='#FF4500',\n",
    "       label=win_probability.columns[2])\n",
    "\n",
    "plt.bar([p + width*2 for p in pos],\n",
    "       win_probability['firstInhibitor'],\n",
    "       width,\n",
    "       alpha=0.5,\n",
    "       color ='#FFFF00',\n",
    "       label=win_probability.columns[3])\n",
    "\n",
    "plt.bar([p + width*3 for p in pos],\n",
    "       win_probability['firstDragon'],\n",
    "       width,\n",
    "       alpha=0.5,\n",
    "       color ='#0000FF',\n",
    "       label=win_probability.columns[4])\n",
    "\n",
    "plt.bar([p + width*4 for p in pos],\n",
    "       win_probability['firstBaron'],\n",
    "       width,\n",
    "       alpha=0.5,\n",
    "       color ='#ADFF2F',\n",
    "       label=win_probability.columns[5])\n",
    "\n",
    "plt.xlim(min(pos)-width, max(pos)+width*5)\n",
    "ax.set_ylabel('Win Probability')\n",
    "ax.set_xlabel('Team')\n",
    "ax.set_title('Probaility of winning from first objective')\n",
    "ax.set_xticks([p + 2 * width for p in pos])\n",
    "ax.set_xticklabels(win_probability['winner'])\n",
    "plt.legend()"
   ]
  },
  {
   "cell_type": "markdown",
   "metadata": {},
   "source": [
    "# Features:\n",
    "\n",
    "We analyze some features to understand which has the potential to impact winning a game. So far it seems that when a team took the first tower, inhibitor or dragon they had the highest chance of winning while taking first blood and baron were not as important. \n",
    "\n",
    "I want to see what was the average amount of towers, inhibitors, dragons and barons for each team when they won.\n",
    "Then I want to see if the champ select/ban phase impacted the win rate."
   ]
  },
  {
   "cell_type": "code",
   "execution_count": 224,
   "metadata": {},
   "outputs": [
    {
     "data": {
      "text/plain": [
       "Index(['gameId', 'creationTime', 'gameDuration', 'seasonId', 'winner',\n",
       "       'firstBlood', 'firstTower', 'firstInhibitor', 'firstBaron',\n",
       "       'firstDragon', 'firstRiftHerald', 't1_champ1id', 't1_champ1_sum1',\n",
       "       't1_champ1_sum2', 't1_champ2id', 't1_champ2_sum1', 't1_champ2_sum2',\n",
       "       't1_champ3id', 't1_champ3_sum1', 't1_champ3_sum2', 't1_champ4id',\n",
       "       't1_champ4_sum1', 't1_champ4_sum2', 't1_champ5id', 't1_champ5_sum1',\n",
       "       't1_champ5_sum2', 't1_towerKills', 't1_inhibitorKills', 't1_baronKills',\n",
       "       't1_dragonKills', 't1_riftHeraldKills', 't1_ban1', 't1_ban2', 't1_ban3',\n",
       "       't1_ban4', 't1_ban5', 't2_champ1id', 't2_champ1_sum1', 't2_champ1_sum2',\n",
       "       't2_champ2id', 't2_champ2_sum1', 't2_champ2_sum2', 't2_champ3id',\n",
       "       't2_champ3_sum1', 't2_champ3_sum2', 't2_champ4id', 't2_champ4_sum1',\n",
       "       't2_champ4_sum2', 't2_champ5id', 't2_champ5_sum1', 't2_champ5_sum2',\n",
       "       't2_towerKills', 't2_inhibitorKills', 't2_baronKills', 't2_dragonKills',\n",
       "       't2_riftHeraldKills', 't2_ban1', 't2_ban2', 't2_ban3', 't2_ban4',\n",
       "       't2_ban5'],\n",
       "      dtype='object')"
      ]
     },
     "execution_count": 224,
     "metadata": {},
     "output_type": "execute_result"
    }
   ],
   "source": [
    "games_train.columns"
   ]
  },
  {
   "cell_type": "code",
   "execution_count": 225,
   "metadata": {},
   "outputs": [
    {
     "data": {
      "text/html": [
       "<div>\n",
       "<style scoped>\n",
       "    .dataframe tbody tr th:only-of-type {\n",
       "        vertical-align: middle;\n",
       "    }\n",
       "\n",
       "    .dataframe tbody tr th {\n",
       "        vertical-align: top;\n",
       "    }\n",
       "\n",
       "    .dataframe thead th {\n",
       "        text-align: right;\n",
       "    }\n",
       "</style>\n",
       "<table border=\"1\" class=\"dataframe\">\n",
       "  <thead>\n",
       "    <tr style=\"text-align: right;\">\n",
       "      <th></th>\n",
       "      <th>t1_towerKills</th>\n",
       "      <th>t1_inhibitorKills</th>\n",
       "      <th>t1_baronKills</th>\n",
       "      <th>t1_dragonKills</th>\n",
       "      <th>t1_riftHeraldKills</th>\n",
       "      <th>t2_towerKills</th>\n",
       "      <th>t2_inhibitorKills</th>\n",
       "      <th>t2_baronKills</th>\n",
       "      <th>t2_dragonKills</th>\n",
       "      <th>t2_riftHeraldKills</th>\n",
       "    </tr>\n",
       "    <tr>\n",
       "      <th>winner</th>\n",
       "      <th></th>\n",
       "      <th></th>\n",
       "      <th></th>\n",
       "      <th></th>\n",
       "      <th></th>\n",
       "      <th></th>\n",
       "      <th></th>\n",
       "      <th></th>\n",
       "      <th></th>\n",
       "      <th></th>\n",
       "    </tr>\n",
       "  </thead>\n",
       "  <tbody>\n",
       "    <tr>\n",
       "      <th>1</th>\n",
       "      <td>8.586731</td>\n",
       "      <td>1.827142</td>\n",
       "      <td>0.581408</td>\n",
       "      <td>1.953575</td>\n",
       "      <td>0.343083</td>\n",
       "      <td>2.562366</td>\n",
       "      <td>0.167261</td>\n",
       "      <td>0.174175</td>\n",
       "      <td>0.800746</td>\n",
       "      <td>0.147835</td>\n",
       "    </tr>\n",
       "    <tr>\n",
       "      <th>2</th>\n",
       "      <td>2.735354</td>\n",
       "      <td>0.190123</td>\n",
       "      <td>0.155387</td>\n",
       "      <td>0.808025</td>\n",
       "      <td>0.154994</td>\n",
       "      <td>8.623850</td>\n",
       "      <td>1.831762</td>\n",
       "      <td>0.659035</td>\n",
       "      <td>2.024299</td>\n",
       "      <td>0.336364</td>\n",
       "    </tr>\n",
       "  </tbody>\n",
       "</table>\n",
       "</div>"
      ],
      "text/plain": [
       "        t1_towerKills  t1_inhibitorKills  t1_baronKills  t1_dragonKills  \\\n",
       "winner                                                                    \n",
       "1            8.586731           1.827142       0.581408        1.953575   \n",
       "2            2.735354           0.190123       0.155387        0.808025   \n",
       "\n",
       "        t1_riftHeraldKills  t2_towerKills  t2_inhibitorKills  t2_baronKills  \\\n",
       "winner                                                                        \n",
       "1                 0.343083       2.562366           0.167261       0.174175   \n",
       "2                 0.154994       8.623850           1.831762       0.659035   \n",
       "\n",
       "        t2_dragonKills  t2_riftHeraldKills  \n",
       "winner                                      \n",
       "1             0.800746            0.147835  \n",
       "2             2.024299            0.336364  "
      ]
     },
     "execution_count": 225,
     "metadata": {},
     "output_type": "execute_result"
    }
   ],
   "source": [
    "study = ['t1_towerKills','t1_inhibitorKills','t1_baronKills','t1_dragonKills','t1_riftHeraldKills','t2_towerKills','t2_inhibitorKills','t2_baronKills','t2_dragonKills','t2_riftHeraldKills']\n",
    "games_train.groupby('winner')[study].mean()"
   ]
  },
  {
   "cell_type": "code",
   "execution_count": 226,
   "metadata": {},
   "outputs": [
    {
     "data": {
      "text/plain": [
       "<matplotlib.axes._subplots.AxesSubplot at 0x227ce4b0>"
      ]
     },
     "execution_count": 226,
     "metadata": {},
     "output_type": "execute_result"
    },
    {
     "data": {
      "image/png": "[encoded data removed]",
      "text/plain": [
       "<Figure size 432x288 with 1 Axes>"
      ]
     },
     "metadata": {
      "needs_background": "light"
     },
     "output_type": "display_data"
    }
   ],
   "source": [
    "sns.countplot(x='t1_towerKills',data=games_train,hue='winner')"
   ]
  },
  {
   "cell_type": "code",
   "execution_count": 227,
   "metadata": {},
   "outputs": [
    {
     "data": {
      "text/plain": [
       "<matplotlib.axes._subplots.AxesSubplot at 0x227da5b0>"
      ]
     },
     "execution_count": 227,
     "metadata": {},
     "output_type": "execute_result"
    },
    {
     "data": {
      "image/png": "[encoded data removed]",
      "text/plain": [
       "<Figure size 432x288 with 1 Axes>"
      ]
     },
     "metadata": {
      "needs_background": "light"
     },
     "output_type": "display_data"
    }
   ],
   "source": [
    "sns.countplot(x='t2_towerKills',data=games_train,hue='winner')"
   ]
  },
  {
   "cell_type": "code",
   "execution_count": null,
   "metadata": {},
   "outputs": [],
   "source": []
  }
 ],
 "metadata": {
  "kernelspec": {
   "display_name": "Python 3",
   "language": "python",
   "name": "python3"
  },
  "language_info": {
   "codemirror_mode": {
    "name": "ipython",
    "version": 3
   },
   "file_extension": ".py",
   "mimetype": "text/x-python",
   "name": "python",
   "nbconvert_exporter": "python",
   "pygments_lexer": "ipython3",
   "version": "3.7.3"
  }
 },
 "nbformat": 4,
 "nbformat_minor": 2
}
